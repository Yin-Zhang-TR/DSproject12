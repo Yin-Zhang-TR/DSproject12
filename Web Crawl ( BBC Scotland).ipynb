{
 "cells": [
  {
   "cell_type": "code",
   "execution_count": 1,
   "metadata": {},
   "outputs": [],
   "source": [
    "import requests\n",
    "from bs4 import BeautifulSoup\n",
    "url='https://www.bbc.com/scotland/'\n",
    "headers = {'User-Agent': 'Mozilla/5.0 (Macintosh; Intel Mac OS X 10_12_3) AppleWebKit/537.36 (KHTML, like Gecko) Chrome/56.0.2924.87 Safari/537.36'}\n",
    "r = requests.get(url, headers = headers)\n",
    "content = r.text\n",
    "#print(content)\n",
    "soup = BeautifulSoup(content, 'lxml')"
   ]
  },
  {
   "cell_type": "code",
   "execution_count": 2,
   "metadata": {},
   "outputs": [],
   "source": [
    "def news_content(news_url,a,b):\n",
    "    res = requests.get(news_url, headers = headers)\n",
    "    res.encoding = 'utf-8'\n",
    "\n",
    "    soup = BeautifulSoup(res.text, 'lxml')\n",
    "#print(soup)\n",
    "\n",
    "    for articles in soup.select(a):\n",
    "        for i in range(len(articles.select(b))):\n",
    "            if(len(articles.select(b)) > 0):\n",
    "                ab=articles.select(b)[i].text\n",
    "                print(ab)"
   ]
  },
  {
   "cell_type": "raw",
   "metadata": {},
   "source": [
    "article_url=[]\n",
    "for news in soup.select('.top-story'): \n",
    "    if(len(news.select('h3'))> 0):\n",
    "        h3 = news.select('h3')[0].text\n",
    "        h4 = news.select('h3')\n",
    "       \n",
    "        #title=soup.select('title')[0].text\n",
    "        #a=h4.select('a')[0]\n",
    "        \n",
    "        #con=news_content(url[:-1]+a['href'],'.article-body','p')\n",
    "        print(h3,'\\n')\n",
    "        #print(h4)\n",
    "len(h3)\n",
    "        #print(a)\n",
    "        #print(con)\n",
    "       # article_url.append(b)"
   ]
  },
  {
   "cell_type": "code",
   "execution_count": 154,
   "metadata": {},
   "outputs": [
    {
     "name": "stdout",
     "output_type": "stream",
     "text": [
      "Tonight: The end of World War I brought vividly to life https://www.bbc.co.uk/programmes/p06nzq6s\n",
      "River City to Lego Batman — the Inverness connection http://www.bbc.co.uk/programmes/articles/2qDsRGdkdlcXw2sJQ816CSc/a-star-is-lorne-the-hollywood-film-composer-whose-work-on-the-cry-shows-how-far-he-s-come-from-his-inverness-roots\n",
      "When tempers fray during Sportsound https://www.bbc.co.uk/sport/av/football/45951726\n",
      "Plan to compensate child abuse victims http://www.bbc.co.uk/news/scotland\n",
      "Schools shut by biggest equal pay strike http://www.bbc.co.uk/news/uk-scotland-45954052\n",
      "Missing horror film found in attic http://www.bbc.co.uk/news/uk-scotland-glasgow-west-45941552\n",
      "Scotland to meet world champions US http://www.bbc.co.uk/sport/0/scotland/\n",
      "'That's garbage. You've made that up' - tempers fray during Sportsound http://www.bbc.co.uk/sport/football/45949899\n",
      "Edinburgh as good as anybody - Cockerill http://www.bbc.co.uk/sport/av/football/45951726\n",
      "Your pictures of Scotland: 12 - 19 October http://www.bbc.co.uk/news/in_pictures\n",
      "Inside bookshops and libraries of Scotland http://www.bbc.co.uk/news/uk-scotland-45915532\n",
      "Frosty Glencoe photo wins top award http://www.bbc.co.uk/news/in-pictures-45894216\n",
      "Rising country star Ashley McBryde in session https://www.bbc.co.uk/programmes/p06nq0mv\n",
      "Songs and a scone in Campbeltown http://www.bbc.co.uk/programmes/articles/3FrjCypJvNGKB9RjbbY4H7H/the-bbc-scottish-symphony-orchestra-in-campbeltown\n",
      "Mod 2018: Live performances from Dunoon https://www.bbc.co.uk/programmes/b0084v85/clips\n",
      "How a Highland adventure changed Simon Reeve’s life http://www.bbc.co.uk/programmes/articles/48vndlqTjPTh3Ygpq4v9D3M/globe-trotting-adventurer-simon-reeve-came-close-to-suicide-as-a-teenager-but-a-trip-to-glencoe-transformed-his-life\n",
      "‘It’s difficult to be confident and to believe in yourself’ http://www.bbc.co.uk/programmes/articles/4tFKK5WxvnlWvTznxk4bq0d/growing-up-i-was-always-a-big-fan-of-lady-gaga-nicky-minaj-as-a-drag-queen-lawrence-is-bringing-that-glamour-to-glasgow\n",
      "How did Alan Cumming change the course of this woman’s life? http://www.bbc.co.uk/programmes/articles/4F43sDmrn3SczGTQ5LzNQV9/from-brooklyn-to-glasgow-the-aspiring-actor-who-overcame-adversity-to-follow-in-the-footsteps-of-her-film-icon\n",
      "The Cry, Series 1, Episode 4 http://www.bbc.co.uk/iplayer/categories/scotland/highlights\n",
      "Landward, 2018/2019, Saving Our Salmon http://www.bbc.co.uk/iplayer/episode/b0bpwm2p\n",
      "Grand Tours of Scotland's Lochs, Series 2, Decline and Fall http://www.bbc.co.uk/iplayer/episode/b0bp15s1\n",
      "Time Travels, Series 4, Navigators, Activists and Prisoners http://www.bbc.co.uk/radioscotland\n",
      "Vic Galloway, Joseph Malik Session http://www.bbc.co.uk/radio/play/m0000tkq\n",
      "Breaking the News, Series 10, Raymond Mearns, Catriona Shearer, Susie ... http://www.bbc.co.uk/radio/play/m0000tmg\n",
      "BBC One Scotland. Live now. http://www.bbc.co.uk/iplayer/live/bbcone?area=scotland\n",
      "BBC Two Scotland. Live now. http://www.bbc.co.uk/iplayer/live/bbctwo?area=scotland\n",
      "BBC Radio Scotland. Live now. http://www.bbc.co.uk/radio/player/bbc_radio_scotland_fm\n",
      "A look back at last year's Lorient Festival http://www.bbc.co.uk/tv/bbcalba\n",
      "Full match coverage from the Scottish Premiership https://www.bbc.co.uk/programmes/b095vnhs\n",
      "Andri's list of potential suspects is getting longer https://www.bbc.co.uk/programmes/m0000w5j\n",
      "BBC Scotland on Facebook http://www.bbc.co.uk/aboutthebbc/scotland/social\n",
      "Join the conversation on Twitter with @BBCScotland https://www.facebook.com/BBCScotland\n",
      "Look behind the scenes at BBC Scotland on Instagram https://twitter.com/BBCScotland\n"
     ]
    }
   ],
   "source": [
    "article_url=[]\n",
    "for news1 in soup.select('.top-stories'): \n",
    "    if(len(news1.select('a'))> 0):\n",
    "        h31=news1.select('h3')[0].text\n",
    "        a1=news1.select('a')[0]['href']\n",
    "        h32=news1.select('h3')[1].text\n",
    "        a2=news1.select('a')[1]['href']\n",
    "        h33=news1.select('h3')[2].text\n",
    "        a3=news1.select('a')[2]['href']\n",
    "        article_url.append(a1)\n",
    "        article_url.append(a2)\n",
    "        article_url.append(a3)\n",
    "        print(h31,a1)\n",
    "        print(h32,a2)\n",
    "        print(h33,a3)\n"
   ]
  },
  {
   "cell_type": "code",
   "execution_count": 155,
   "metadata": {},
   "outputs": [
    {
     "data": {
      "text/plain": [
       "33"
      ]
     },
     "execution_count": 155,
     "metadata": {},
     "output_type": "execute_result"
    }
   ],
   "source": [
    "len(article_url)"
   ]
  },
  {
   "cell_type": "raw",
   "metadata": {},
   "source": [
    "for tag in soup.find_all(\"article\") :\n",
    "    title = tag.find(\"meta\",  property=\"og:title\")\n",
    "    url = tag.find(\"meta\",  property=\"og:url\")\n",
    "    print(title.text)\n",
    "    print(url)\n",
    "\n",
    "   # print(title[\"content\"] if title else \"No meta title given\")\n",
    "   # print(url[\"content\"] if url else \"No meta url given\")\n"
   ]
  },
  {
   "cell_type": "code",
   "execution_count": 156,
   "metadata": {},
   "outputs": [
    {
     "name": "stdout",
     "output_type": "stream",
     "text": [
      "['https://www.bbc.co.uk/programmes/p06nzq6s', 'http://www.bbc.co.uk/programmes/articles/2qDsRGdkdlcXw2sJQ816CSc/a-star-is-lorne-the-hollywood-film-composer-whose-work-on-the-cry-shows-how-far-he-s-come-from-his-inverness-roots', 'https://www.bbc.co.uk/sport/av/football/45951726', 'http://www.bbc.co.uk/news/scotland', 'http://www.bbc.co.uk/news/uk-scotland-45954052', 'http://www.bbc.co.uk/news/uk-scotland-glasgow-west-45941552', 'http://www.bbc.co.uk/sport/0/scotland/', 'http://www.bbc.co.uk/sport/football/45949899', 'http://www.bbc.co.uk/sport/av/football/45951726', 'http://www.bbc.co.uk/news/in_pictures', 'http://www.bbc.co.uk/news/uk-scotland-45915532', 'http://www.bbc.co.uk/news/in-pictures-45894216', 'https://www.bbc.co.uk/programmes/p06nq0mv', 'http://www.bbc.co.uk/programmes/articles/3FrjCypJvNGKB9RjbbY4H7H/the-bbc-scottish-symphony-orchestra-in-campbeltown', 'https://www.bbc.co.uk/programmes/b0084v85/clips', 'http://www.bbc.co.uk/programmes/articles/48vndlqTjPTh3Ygpq4v9D3M/globe-trotting-adventurer-simon-reeve-came-close-to-suicide-as-a-teenager-but-a-trip-to-glencoe-transformed-his-life', 'http://www.bbc.co.uk/programmes/articles/4tFKK5WxvnlWvTznxk4bq0d/growing-up-i-was-always-a-big-fan-of-lady-gaga-nicky-minaj-as-a-drag-queen-lawrence-is-bringing-that-glamour-to-glasgow', 'http://www.bbc.co.uk/programmes/articles/4F43sDmrn3SczGTQ5LzNQV9/from-brooklyn-to-glasgow-the-aspiring-actor-who-overcame-adversity-to-follow-in-the-footsteps-of-her-film-icon', 'http://www.bbc.co.uk/iplayer/categories/scotland/highlights', 'http://www.bbc.co.uk/iplayer/episode/b0bpwm2p', 'http://www.bbc.co.uk/iplayer/episode/b0bp15s1', 'http://www.bbc.co.uk/radioscotland', 'http://www.bbc.co.uk/radio/play/m0000tkq', 'http://www.bbc.co.uk/radio/play/m0000tmg', 'http://www.bbc.co.uk/iplayer/live/bbcone?area=scotland', 'http://www.bbc.co.uk/iplayer/live/bbctwo?area=scotland', 'http://www.bbc.co.uk/radio/player/bbc_radio_scotland_fm', 'http://www.bbc.co.uk/tv/bbcalba', 'https://www.bbc.co.uk/programmes/b095vnhs', 'https://www.bbc.co.uk/programmes/m0000w5j', 'http://www.bbc.co.uk/aboutthebbc/scotland/social', 'https://www.facebook.com/BBCScotland', 'https://twitter.com/BBCScotland']\n"
     ]
    }
   ],
   "source": [
    "print(article_url)"
   ]
  },
  {
   "cell_type": "code",
   "execution_count": 157,
   "metadata": {
    "scrolled": false
   },
   "outputs": [
    {
     "name": "stdout",
     "output_type": "stream",
     "text": [
      "article from: https://www.bbc.co.uk/programmes/p06nzq6s\n",
      "article from: http://www.bbc.co.uk/programmes/articles/2qDsRGdkdlcXw2sJQ816CSc/a-star-is-lorne-the-hollywood-film-composer-whose-work-on-the-cry-shows-how-far-he-s-come-from-his-inverness-roots\n",
      "18 October 2018\n",
      "As an aspiring composer from Inverness, Lorne Balfe wrote a letter to renowned Hollywood composer Hans Zimmer, asking if he could work for free in order to gain experience.Over the course of his training, Balfe progressed to co-compose Hollywood soundtracks with Zimmer before branching out into scoring films and TV on his own.In his early days, Balfe worked on Scottish institution River City; since then, he has gone on to become one of Hollywood’s most sought-after composers.Along with his most recent work for BBC One drama The Cry, here are just some of the scores that put Lorne Balfe firmly on the map.\n",
      "Working with Hans Zimmer meant getting experience on high-profile Hollywood productions. As a film composer in his own right, Lorne has worked on blockbusters like Mission: Impossible – Fallout and Terminator Genisys.\n",
      "Lorne first made a name for himself as a composer working on the BBC Scotland children’s show Shoebox Zoo, which starred Peter Mullan and Jason Connery. Interestingly, Lorne’s big break with Shoebox Zoo came from being hired by the show’s Exec Producer Claire Mundell – also the Exec Producer of The Cry – who is such a fan of Lorne’s talent that she handpicked him to score this latest drama. After Shoebox Zoo, Lorne later moved on to River City.\n",
      "Working on animated films as co-composer with Hans Zimmer allowed Lorn to progress to the point of composing animated feature films – like Megamind and Penguins of Madagascar – on his own.\n",
      "Lorne has also worked on some of the biggest-selling computer game titles of recent times, like Assassin’s Creed III and FIFA 19.\n",
      "Lorne Balfe’s score for the opening credits of The Cry.\n",
      "article from: https://www.bbc.co.uk/sport/av/football/45951726\n",
      "article from: http://www.bbc.co.uk/news/scotland\n",
      "article from: http://www.bbc.co.uk/news/uk-scotland-45954052\n",
      "article from: http://www.bbc.co.uk/news/uk-scotland-glasgow-west-45941552\n",
      "article from: http://www.bbc.co.uk/sport/0/scotland/\n",
      "article from: http://www.bbc.co.uk/sport/football/45949899\n",
      "article from: http://www.bbc.co.uk/sport/av/football/45951726\n",
      "article from: http://www.bbc.co.uk/news/in_pictures\n",
      "article from: http://www.bbc.co.uk/news/uk-scotland-45915532\n",
      "article from: http://www.bbc.co.uk/news/in-pictures-45894216\n",
      "article from: https://www.bbc.co.uk/programmes/p06nq0mv\n",
      "article from: http://www.bbc.co.uk/programmes/articles/3FrjCypJvNGKB9RjbbY4H7H/the-bbc-scottish-symphony-orchestra-in-campbeltown\n",
      "The BBC Scottish Symphony Orchestra embarked on a six-day residency in Campbeltown from 29 September to 4 October 2018. The residency comprised community events plus school workshops in Campbeltown and the surrounding area, including on Gigha. The week concluded with a public orchestral concert in Campbeltown’s Victoria Hall. These films showcase what the orchestra got up to.\n",
      "article from: https://www.bbc.co.uk/programmes/b0084v85/clips\n",
      "article from: http://www.bbc.co.uk/programmes/articles/48vndlqTjPTh3Ygpq4v9D3M/globe-trotting-adventurer-simon-reeve-came-close-to-suicide-as-a-teenager-but-a-trip-to-glencoe-transformed-his-life\n",
      "24 September 2018\n",
      "Simon Reeve has travelled the globe reporting from remote, dangerous and beautiful locations. It’s a career many would envy but, as Simon revealed on Out for the Weekend, it would never have happened if it hadn’t been for a trip to Scotland.\n",
      "As a troubled teenager, Simon found himself perched on a bridge above a motorway, preparing to end his life. The toot of a lorry’s horn shook him out of the moment and he chose to live.\n",
      "He caught a train from London to Scotland and eventually found himself in Glencoe, where he started to climb.\n",
      "The venture wasn’t without risk. “I was one of these urban muppets that you hear about being taken off by mountain rescue,” explained Simon. “Or I could have been.”\n",
      "“I was totally unprepared. Trainers, jeans and a shower curtain of a cagoule and that was it.\n",
      "“I kept going even when people told me to turn back. In a way I shouldn’t have but in every way thank goodness for me that I did.”\n",
      "Reaching the peak in darkness, Simon scrambled back down with a brand new sense of achievement.\n",
      "“I stepped out after that climb with completely new purpose and was able to go for some job interviews.\n",
      "“It changed my life.”\n",
      "If you are feeling emotionally distressed, or know someone who is, there are organisations which offer advice and support.\n",
      "article from: http://www.bbc.co.uk/programmes/articles/4tFKK5WxvnlWvTznxk4bq0d/growing-up-i-was-always-a-big-fan-of-lady-gaga-nicky-minaj-as-a-drag-queen-lawrence-is-bringing-that-glamour-to-glasgow\n",
      "6 December 2017\n",
      "You need a unique selling point in the competitive world of entertainment. For Lawrence, that’s drag.\n",
      "article from: http://www.bbc.co.uk/programmes/articles/4F43sDmrn3SczGTQ5LzNQV9/from-brooklyn-to-glasgow-the-aspiring-actor-who-overcame-adversity-to-follow-in-the-footsteps-of-her-film-icon\n",
      "22 May 2018\n",
      "Broadway. If you’re an aspiring theatre actor, it’s the ultimate goal.\n",
      "For native New Yorker Caroline Denis, however, ambition pointed her towards a different destination: Glasgow.\n",
      "“I went to see a play on Broadway that Alan Cumming was in and wanted to know where he went to school. I made a decision that I wasn’t going to audition for any other school.”\n",
      "The school in question was The Royal Conservatoire of Scotland — the same institution that taught Cumming his craft many years earlier.\n",
      "But Caroline’s path to gaining a place at one of the most prestigious acting schools in the world wasn’t an easy one.\n",
      "As she explained to BBC The Social, Caroline’s upbringing was difficult.\n",
      "“When I was 16, my mom, my sisters and I lost basically everything. We would beg for food and for money — whatever we could to survive.”\n",
      "Even when Caroline and her family managed to find a place to live, there were still issues.\n",
      "“There was a lot of mould ... all of us were affected. I had it grow on my face, on my neck, my back; we were all malnourished.”\n",
      "“Yes those things are sad, but they don’t have to be sad. It can change somebody’s perspective and inspire them to say ‘Hey, okay I’m going through this right now, but that’s not the end.’”\n",
      "Caroline auditioned successfully and gained a place at the prestigious acting school in Glasgow, a city gaining popularity as a filming location for American TV series and Hollywood movies.\n",
      "The generosity of family, friends, and donors to an online crowd-funding campaign helped Caroline turn her dream move to Glasgow into a reality.\n",
      "“I’m able to eat because people are helping me; I’m able to pay tuition because people are helping me. I have to pay that forward.”\n",
      "Even though she has gone through more than most in order to try and achieve her dream, Caroline refuses to let it define her as an actor.\n",
      "“It’s important for me to not tell Caroline’s story to these people,” she explains. Instead, her focus is on the stories of the roles she plays — “because that is why I’m chosen to do this.”\n",
      "article from: http://www.bbc.co.uk/iplayer/categories/scotland/highlights\n",
      "article from: http://www.bbc.co.uk/iplayer/episode/b0bpwm2p\n",
      "article from: http://www.bbc.co.uk/iplayer/episode/b0bp15s1\n",
      "article from: http://www.bbc.co.uk/radioscotland\n",
      "article from: http://www.bbc.co.uk/radio/play/m0000tkq\n",
      "article from: http://www.bbc.co.uk/radio/play/m0000tmg\n",
      "article from: http://www.bbc.co.uk/iplayer/live/bbcone?area=scotland\n",
      "article from: http://www.bbc.co.uk/iplayer/live/bbctwo?area=scotland\n",
      "article from: http://www.bbc.co.uk/radio/player/bbc_radio_scotland_fm\n",
      "article from: http://www.bbc.co.uk/tv/bbcalba\n",
      "article from: https://www.bbc.co.uk/programmes/b095vnhs\n",
      "Bliadhna Alba aig Fèis Chiùil Lorient, 2017. A look back at the Year of Scotland at the 2017 Interceltique Festival of Lorient. Presented by Julie Fowlis and Allan MacDonald.\n",
      "Air a' lìbhrigeadh le Julie Fowlis agus Ailean Dòmhnallach. Prògram a tha a' comharrachadh Bliadhna Alba aig Fèis Chiùil Interceltique ann a Lorient, 2017. Le còmhlain-ciùil à Alba agus as a' Bhreatainn Bhig, nam measg Hò-rò.\n",
      "Presented by Julie Fowlis and Allan MacDonald. The first programme in a series of four marking the Year of Scotland at the 47th Interceltique Festival of Lorient in August 2017. Featuring bands and musicians from Scotland and Brittany, including Hò-rò.\n",
      "article from: https://www.bbc.co.uk/programmes/m0000w5j\n"
     ]
    },
    {
     "name": "stdout",
     "output_type": "stream",
     "text": [
      "Geama ball-coise bho’n Prìomh Lìg na h-Alba le Heart of Midlothian a’ dol an aghaidh Obar Dheathain.\n",
      "Football coverage from the Scottish Premiership as Heart of Midlothian take on Aberdeen.\n",
      "article from: http://www.bbc.co.uk/aboutthebbc/scotland/social\n",
      "article from: https://www.facebook.com/BBCScotland\n",
      "article from: https://twitter.com/BBCScotland\n"
     ]
    }
   ],
   "source": [
    "for url_ in article_url:\n",
    "    print('article from:',url_)\n",
    "    news_content(url_,'.text--prose','p')"
   ]
  },
  {
   "cell_type": "code",
   "execution_count": null,
   "metadata": {},
   "outputs": [],
   "source": []
  }
 ],
 "metadata": {
  "kernelspec": {
   "display_name": "Python 3",
   "language": "python",
   "name": "python3"
  },
  "language_info": {
   "codemirror_mode": {
    "name": "ipython",
    "version": 3
   },
   "file_extension": ".py",
   "mimetype": "text/x-python",
   "name": "python",
   "nbconvert_exporter": "python",
   "pygments_lexer": "ipython3",
   "version": "3.6.5"
  }
 },
 "nbformat": 4,
 "nbformat_minor": 2
}
