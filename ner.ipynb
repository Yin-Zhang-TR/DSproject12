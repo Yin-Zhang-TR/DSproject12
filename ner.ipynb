{
 "cells": [
  {
   "cell_type": "code",
   "execution_count": 1,
   "metadata": {},
   "outputs": [],
   "source": [
    "import nltk\n",
    "import numpy as np"
   ]
  },
  {
   "cell_type": "code",
   "execution_count": 2,
   "metadata": {},
   "outputs": [
    {
     "name": "stdout",
     "output_type": "stream",
     "text": [
      "[('William', 'PERSON'), ('Smith', 'PERSON'), ('has', 'O'), ('worked', 'O'), ('for', 'O'), ('companies', 'O'), ('like', 'O'), ('Infosys', 'ORGANIZATION'), ('Pvt', 'O'), ('Ltd,', 'O'), ('IBM', 'ORGANIZATION'), ('India', 'ORGANIZATION'), ('Pvt', 'ORGANIZATION'), ('Ltd.', 'ORGANIZATION'), ('He', 'O'), ('is', 'O'), ('now', 'O'), ('studying', 'O'), ('in', 'O'), ('Glasgow', 'LOCATION')]\n"
     ]
    }
   ],
   "source": [
    "from nltk.tag import StanfordNERTagger\n",
    "eng_tagger = StanfordNERTagger(model_filename=r'E:\\Glasgow\\TeamProject\\entityParser\\stanford-ner-2018-02-27\\classifiers\\english.muc.7class.distsim.crf.ser.gz',path_to_jar=r'E:\\Glasgow\\TeamProject\\entityParser\\stanford-ner-2018-02-27\\stanford-ner.jar')\n",
   
    "f = open('noblank_bbc.txt','r')\n",
    "content = f.read()\n",
    "res = eng_tagger.tag(content.split())\n",
    "print(res)"
   ]
  },
  {
   "cell_type": "code",
   "execution_count": 3,
   "metadata": {
    "scrolled": false
   },
   "outputs": [
    {
     "name": "stdout",
     "output_type": "stream",
     "text": [
      "20\n",
      "['PERSON', 'William', 'Smith']\n",
      "['ORGANIZATION', 'Infosys', 'IBM', 'India', 'Pvt', 'Ltd.']\n",
      "['LOCATION', 'Glasgow']\n"
     ]
    }
   ],
   "source": [
    "list_per = ['PERSON']\n",
    "list_org = ['ORGANIZATION']\n",
    "list_loc = ['LOCATION']\n",
    "print(len(res))\n",
    "for i in range(len(res)):\n",
    "    if 'PERSON' in res[i][1]:\n",
    "        per =res[i][0]\n",
    "        list_per.append(per)\n",
    "        #tag = 0\n",
    "    else:\n",
    "        if 'ORGANIZATION' in res[i][1]:\n",
    "            org =res[i][0]\n",
    "            list_org.append(org)\n",
    "        else:\n",
    "            if 'LOCATION' in res[i][1]:\n",
    "                loc =res[i][0]\n",
    "                list_loc.append(loc)\n",
    "print(list_per)\n",
    "print(list_org)\n",
    "print(list_loc)"
   ]
  },
  {
   "cell_type": "code",
   "execution_count": 33,
   "metadata": {},
   "outputs": [],
   "source": [
    "#sentiment analysis\n",
    "from textblob import TextBlob"
   ]
  },
  {
   "cell_type": "code",
   "execution_count": 34,
   "metadata": {},
   "outputs": [
    {
     "name": "stdout",
     "output_type": "stream",
     "text": [
      "I am happy today. I feel sad today.\n"
     ]
    }
   ],
   "source": [
    "text = \"I am happy today. I feel sad today.\"\n",
    "blob = TextBlob(text)\n",
    "print(blob)"
   ]
  },
  {
   "cell_type": "code",
   "execution_count": 35,
   "metadata": {},
   "outputs": [
    {
     "data": {
      "text/plain": [
       "[Sentence(\"I am happy today.\"), Sentence(\"I feel sad today.\")]"
      ]
     },
     "execution_count": 35,
     "metadata": {},
     "output_type": "execute_result"
    }
   ],
   "source": [
    "blob.sentences"
   ]
  },
  {
   "cell_type": "code",
   "execution_count": 38,
   "metadata": {},
   "outputs": [
    {
     "name": "stdout",
     "output_type": "stream",
     "text": [
      "Sentiment(polarity=0.8, subjectivity=1.0) Sentiment(polarity=-0.5, subjectivity=1.0)\n"
     ]
    }
   ],
   "source": [
    "s1 = blob.sentences[0].sentiment\n",
    "s2 = blob.sentences[1].sentiment\n",
    "print(s1,s2)"
   ]
  },
  {
   "cell_type": "code",
   "execution_count": 39,
   "metadata": {},
   "outputs": [
    {
     "data": {
      "text/plain": [
       "Sentiment(polarity=0.15000000000000002, subjectivity=1.0)"
      ]
     },
     "execution_count": 39,
     "metadata": {},
     "output_type": "execute_result"
    }
   ],
   "source": [
    "blob.sentiment"
   ]
  },
  {
   "cell_type": "code",
   "execution_count": null,
   "metadata": {},
   "outputs": [],
   "source": []
  }
 ],
 "metadata": {
  "kernelspec": {
   "display_name": "Python 3",
   "language": "python",
   "name": "python3"
  },
  "language_info": {
   "codemirror_mode": {
    "name": "ipython",
    "version": 3
   },
   "file_extension": ".py",
   "mimetype": "text/x-python",
   "name": "python",
   "nbconvert_exporter": "python",
   "pygments_lexer": "ipython3",
   "version": "3.6.5"
  }
 },
 "nbformat": 4,
 "nbformat_minor": 2
}
