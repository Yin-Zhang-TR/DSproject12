{
 "cells": [
  {
   "cell_type": "code",
   "execution_count": null,
   "metadata": {},
   "outputs": [],
   "source": [
    "db_twitter=client.Twitter1115\n",
    "collection_twitter = db_twitter.Twitter_Remove_Noise_NER_3_entities\n",
    "print(collection_twitter)"
   ]
  },
  {
   "cell_type": "code",
   "execution_count": null,
   "metadata": {},
   "outputs": [],
   "source": [
    "import spacy\n",
    "from spacy import displacy\n",
    "from collections import Counter\n",
    "import en_core_web_sm\n",
    "nlp = en_core_web_sm.load()"
   ]
  },
  {
   "cell_type": "code",
   "execution_count": null,
   "metadata": {},
   "outputs": [],
   "source": [
    "labels = [{x.label_:x.text} for x in doc.ents]\n",
    "labels"
   ]
  },
  {
   "cell_type": "code",
   "execution_count": null,
   "metadata": {},
   "outputs": [],
   "source": [
    "#Filter tweets_text\n",
    "for item in db_twitter.Twitter_Remove_Noise.find():\n",
    "    doc=nlp(item['text'])\n",
    "    labels = [x.label_ for x in doc.ents]\n",
    "    if (labels!=[]):\n",
    "        entities=[(X.text, X.label_) for X in doc.ents]\n",
    "        result=db_twitter.Twitter_Remove_Noise_NER.insert_one(item)\n",
    "        print(result)"
   ]
  },
  {
   "cell_type": "code",
   "execution_count": null,
   "metadata": {},
   "outputs": [],
   "source": [
    "for item in db_twitter.Twitter_Remove_Noise.find():\n",
    "    doc = nlp(item['text'])\n",
    "    orgstr = \"\"\n",
    "    locstr = \"\"\n",
    "    pstr = \"\"\n",
    "    for X in doc.ents:\n",
    "        str = X.label_\n",
    "        if (str is \"ORG\"):\n",
    "            orgstr = orgstr + \",\" + X.text\n",
    "        elif (str is \"LOC\"):\n",
    "            locstr = locstr + \",\" + X.text\n",
    "        elif (str is \"PERSON\"):\n",
    "            pstr = pstr + \",\" + X.text\n",
    "\n",
    "\n",
    "    if (orgstr is not \"\") or (locstr is not \"\") or (pstr is not \"\"):\n",
    "        #print(\"org\", orgstr)\n",
    "        #print(\"locstr\", locstr)\n",
    "         #print(\"pstr\", pstr)\n",
    "        id=item['id']\n",
    "\n",
    "        db_twitter.Twitter_Remove_Noise_NER_3_entities.insert_one(item)\n",
    "\n",
    "        myquery = {\"id\": id}\n",
    "        newvalues = {\"$set\": {\"ORG\": orgstr,\"LOC\": locstr,\"PERSON\": pstr}}\n",
    "        db_twitter.Twitter_Remove_Noise_NER_3_entities.update_one(myquery, newvalues)"
   ]
  },
  {
   "cell_type": "code",
   "execution_count": null,
   "metadata": {},
   "outputs": [],
   "source": [
    "for item in db_twitter.Twitter_Remove_Noise.find():\n",
    "    doc=nlp(item['text'])\n",
    "    labels = [x.label_ for x in doc.ents]\n",
    "    if ('ORG' in labels or 'LOC' in labels or 'PERSON' in labels):\n",
    "        result=db_twitter.Twitter_Remove_Noise_NER_3.insert_one(item)\n",
    "        result=db_twitter.Twitter_Remove_Noise_NER_3.insert_one(item)\n",
    "        print(result)"
   ]
  }
 ],
 "metadata": {
  "kernelspec": {
   "display_name": "Python 3",
   "language": "python",
   "name": "python3"
  },
  "language_info": {
   "codemirror_mode": {
    "name": "ipython",
    "version": 3
   },
   "file_extension": ".py",
   "mimetype": "text/x-python",
   "name": "python",
   "nbconvert_exporter": "python",
   "pygments_lexer": "ipython3",
   "version": "3.6.6"
  }
 },
 "nbformat": 4,
 "nbformat_minor": 2
}
