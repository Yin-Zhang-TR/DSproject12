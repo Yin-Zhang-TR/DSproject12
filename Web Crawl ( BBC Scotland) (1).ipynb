{
 "cells": [
  {
   "cell_type": "code",
   "execution_count": 20,
   "metadata": {},
   "outputs": [],
   "source": [
    "import requests\n",
    "from bs4 import BeautifulSoup\n",
    "url='https://www.bbc.com/scotland/'\n",
    "headers = {'User-Agent': 'Mozilla/5.0 (Macintosh; Intel Mac OS X 10_12_3) AppleWebKit/537.36 (KHTML, like Gecko) Chrome/56.0.2924.87 Safari/537.36'}\n",
    "r = requests.get(url, headers = headers)\n",
    "content = r.text\n",
    "#print(content)\n",
    "soup = BeautifulSoup(content, 'lxml')"
   ]
  },
  {
   "cell_type": "code",
   "execution_count": 2,
   "metadata": {},
   "outputs": [],
   "source": [
    "def news_content(news_url,a,b):\n",
    "    res = requests.get(news_url, headers = headers)\n",
    "    res.encoding = 'utf-8'\n",
    "\n",
    "    soup = BeautifulSoup(res.text, 'lxml')\n",
    "#print(soup)\n",
    "\n",
    "    for articles in soup.select(a):\n",
    "        for i in range(len(articles.select(b))):\n",
    "            if(len(articles.select(b)) > 0):\n",
    "                ab=articles.select(b)[i].text\n",
    "                print(ab)"
   ]
  },
  {
   "cell_type": "code",
   "execution_count": 107,
   "metadata": {},
   "outputs": [
    {
     "name": "stdout",
     "output_type": "stream",
     "text": [
      "Do we have a moral obligation to eradicate mosquitoes? \n",
      "\n",
      "Can celebrated chefs improve the much-loved half-time pie? \n",
      "\n",
      "The professional footballer giving depression the red card \n",
      "\n",
      "Flood warnings in place after storm \n",
      "\n",
      "New train back on track after fault fixed \n",
      "\n",
      "'I ditched telly props for pumpkins' \n",
      "\n",
      "Was humiliation in Haifa the worst 90 minutes as a Scotland fan? \n",
      "\n",
      "Saturday's Scottish Gossip \n",
      "\n",
      "Quiz: Name the Portuguese who played in SPFL \n",
      "\n",
      "Your pictures of Scotland: 5-12 October \n",
      "\n",
      "24-hour power finally reaches Fair Isle \n",
      "\n",
      "‘Minnie Lisa’ unveiled at Dundee’s McMenace \n",
      "\n",
      "Back-to-back classics by BMX Bandits \n",
      "\n",
      "Treat yourself to an American classic by Gershwin \n",
      "\n",
      "Tracyanne & Danny perform Cellophane Girl \n",
      "\n",
      "‘I gave away all my possessions to live in a hut in the woods’ \n",
      "\n",
      "Why this iconic painting is hiding a secret \n",
      "\n",
      "So… why does this bug Limmy so much? \n",
      "\n",
      "Question Time, 2018, 11/10/2018 \n",
      "\n",
      "Sportscene, Israel v Scotland \n",
      "\n",
      "The Beechgrove Garden, 2018, Episode 22 \n",
      "\n",
      "Out of Doors, Beavers, geese and maps \n",
      "\n",
      "Out for the Weekend, Chris Packham, Dry Tooling and The People's Palac... \n",
      "\n",
      "Stop the Press, Series 4, Jan Ravens and Jo Caulfield vs Tam Cowan and... \n",
      "\n",
      "BBC One Scotland. Live now. \n",
      "\n",
      "BBC Two Scotland. Live now. \n",
      "\n",
      "BBC Radio Scotland. Live now. \n",
      "\n",
      "Highlights from Glasgow's Piping Live! festival \n",
      "\n",
      "The hunt for the lost monastery of Deer \n",
      "\n",
      "Two wartime sea tragedies on Hebridean shores \n",
      "\n",
      "BBC Scotland on Facebook \n",
      "\n",
      "Join the conversation on Twitter with @BBCScotland \n",
      "\n",
      "Look behind the scenes at BBC Scotland on Instagram \n",
      "\n"
     ]
    },
    {
     "data": {
      "text/plain": [
       "51"
      ]
     },
     "execution_count": 107,
     "metadata": {},
     "output_type": "execute_result"
    }
   ],
   "source": [
    "article_url=[]\n",
    "for news in soup.select('.top-story'): \n",
    "    if(len(news.select('h3'))> 0):\n",
    "        h3 = news.select('h3')[0].text\n",
    "        h4 = news.select('h3')[0]\n",
    "        #title=soup.select('title')[0].text\n",
    "       # a=news.select('div')[0]\n",
    "        \n",
    "        #con=news_content(url[:-1]+a['href'],'.article-body','p')\n",
    "        print(h3,'\\n')\n",
    "len(h3)\n",
    "        #print(a)\n",
    "        #print(con)\n",
    "       # article_url.append(b)"
   ]
  },
  {
   "cell_type": "code",
   "execution_count": 81,
   "metadata": {},
   "outputs": [
    {
     "data": {
      "text/plain": [
       "0"
      ]
     },
     "execution_count": 81,
     "metadata": {},
     "output_type": "execute_result"
    }
   ],
   "source": [
    "len(article_url)"
   ]
  },
  {
   "cell_type": "raw",
   "metadata": {},
   "source": [
    "for tag in soup.find_all(\"article\") :\n",
    "    title = tag.find(\"meta\",  property=\"og:title\")\n",
    "    url = tag.find(\"meta\",  property=\"og:url\")\n",
    "    print(title.text)\n",
    "    print(url)\n",
    "\n",
    "   # print(title[\"content\"] if title else \"No meta title given\")\n",
    "   # print(url[\"content\"] if url else \"No meta url given\")\n"
   ]
  },
  {
   "cell_type": "code",
   "execution_count": 62,
   "metadata": {},
   "outputs": [
    {
     "name": "stdout",
     "output_type": "stream",
     "text": [
      "article from: http://www.bbc.co.uk/programmes/articles/wZSCbxlZzNmdHs0vjyNyrd/the-price-of-stopping-malaria-is-eradicating-mosquitoes-ethical\n",
      "9 October 2018\n",
      "“If you have a technology that has the potential to save millions of lives, then you need to think about the ethics of not using it.”Scientists have created a ‘gene drive’: a piece of genetic code that stops female mosquitoes from producing eggs. They also manipulate the laws of inheritance so that almost 100% of offspring become carriers of the new gene, instead of the 50% that would naturally.Professors James Miller and Peter Morris spoke to Good Morning Scotland about the pros and cons of this new form of gene technology with the potential to wipe out Anopheles gambiae, the breed of mosquito that spreads malaria.\n",
      "Given that the gene technology has the potential to save (human) lives – 445,000 people died from Malaria in 2016 alone – Professor James Miller felt it was a ‘moral obligation’ to eradicate the mosquito.\n",
      "He also described a situation where the same technology could be used nefariously: bioterrorists could infect mosquitoes with viruses capable of spreading to humans. To Prof Miller, that qualified the need to eradicate the mosquito even further.\n",
      "Asked if he could see people objecting to the culling of mosquitoes, Professor Miller responded,“It’s as likely as the world deciding, ‘Hey, the world is better off with smallpox’.”\n",
      "Professor Peter Morris explained that experiments involving gene technology have only been used to eliminate a captive population of mosquitoes, so scientists don’t know for certain how it will work in nature.\n",
      "“We do have to look at food chains; mosquitoes are food for fish, bats and birds. Also, male mosquitoes pollinate plants.”\n",
      "As well as the risk of modified genomes crossing into related species of mosquitoes, Professor Morris said it could be difficult to measure the effect of altering the genes.\n",
      "“You would effectively have to have a census of the mosquitoes to see if it was successful.”\n",
      "Dr Andrew Hammond of Imperial College London was part of a research project that aimed to modify a mosquito’s genome in a way that made it spread over successive generations.The modified ‘gene drive’ is passed on to nearly 100% of a mosquito’s offspring: it’s programmed to implant copies of itself into the other strands of its host’s DNA. This bypasses the usual law of nature where only half of the offspring would inherit the modified gene.“Once unleashed,” said Dr Hammond, “the spread of the self-replicating gene is unstoppable.”He claimed the entire mosquito population in Africa could be affected in a couple of years, meaning malaria could be eliminated in a relatively short space of time.\n",
      "article from: http://www.bbc.co.uk/news/scotland\n",
      "article from: http://www.bbc.co.uk/sport/0/scotland/\n",
      "article from: http://www.bbc.co.uk/news/in_pictures\n",
      "article from: https://www.bbc.co.uk/programmes/p06njqjq\n",
      "article from: http://www.bbc.co.uk/programmes/articles/4fdkNHBwHlHNPgVDVrF9WLj/the-simple-life-the-fife-pensioner-who-gave-away-his-worldly-possessions-to-live-alone-in-a-hut-in-the-forest\n",
      "20 March 2018\n",
      "Father Willy Slavin lives modestly in a wooden hut fitted with just a bed, a desk and a wood-burning stove.But the 78-year-old retired priest doesn’t find his simple home and lifestyle unusual.He lived and worked for several years with impoverished communities in Bangladesh, and it’s where the idea of a simple existence took hold.“The majority of people in the world still live in this situation,” claimed Father Slavin on Sunday Morning with....Living off the beaten track means he now has to fetch his own water, in common with millions of others around the globe.\n",
      "Aside from the practicalities of the lifestyle, Father Slavin has had to deal with emotional changes that come from moving from the city to the middle of a forest.\n",
      "“You have to face up to the loneliness,” he admitted. “But we start off lonely as babies on our own and that’s how we’re going to end up.\n",
      "“In life one should always be able to stand on one’s own two feet.”\n",
      "article from: http://www.bbc.co.uk/iplayer/categories/scotland/highlights\n",
      "article from: http://www.bbc.co.uk/radioscotland\n",
      "article from: http://www.bbc.co.uk/iplayer/live/bbcone?area=scotland\n",
      "article from: http://www.bbc.co.uk/tv/bbcalba\n",
      "article from: http://www.bbc.co.uk/aboutthebbc/scotland/social\n"
     ]
    }
   ],
   "source": [
    "for url_ in article_url:\n",
    "    print('article from:',url_)\n",
    "    news_content(url_,'.text--prose','p')"
   ]
  },
  {
   "cell_type": "code",
   "execution_count": null,
   "metadata": {},
   "outputs": [],
   "source": []
  }
 ],
 "metadata": {
  "kernelspec": {
   "display_name": "Python 3",
   "language": "python",
   "name": "python3"
  },
  "language_info": {
   "codemirror_mode": {
    "name": "ipython",
    "version": 3
   },
   "file_extension": ".py",
   "mimetype": "text/x-python",
   "name": "python",
   "nbconvert_exporter": "python",
   "pygments_lexer": "ipython3",
   "version": "3.6.5"
  }
 },
 "nbformat": 4,
 "nbformat_minor": 2
}
